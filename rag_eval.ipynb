{
 "cells": [
  {
   "cell_type": "code",
   "execution_count": 9,
   "metadata": {},
   "outputs": [],
   "source": [
    "import pandas as pd\n",
    "import numpy as np \n",
    "import os\n",
    "import dotenv\n",
    "from sklearn.metrics import precision_score, recall_score, f1_score\n",
    "from rouge import Rouge\n",
    "from nltk.translate.bleu_score import sentence_bleu\n"
   ]
  },
  {
   "cell_type": "code",
   "execution_count": 2,
   "metadata": {},
   "outputs": [
    {
     "data": {
      "text/plain": [
       "True"
      ]
     },
     "execution_count": 2,
     "metadata": {},
     "output_type": "execute_result"
    }
   ],
   "source": [
    "dotenv.load_dotenv()"
   ]
  },
  {
   "cell_type": "code",
   "execution_count": 3,
   "metadata": {},
   "outputs": [],
   "source": [
    "final_file = pd.read_parquet(\"final.parquet\")"
   ]
  },
  {
   "cell_type": "code",
   "execution_count": null,
   "metadata": {},
   "outputs": [],
   "source": [
    "final_file"
   ]
  },
  {
   "cell_type": "code",
   "execution_count": 10,
   "metadata": {},
   "outputs": [],
   "source": [
    "rouge = Rouge()"
   ]
  },
  {
   "cell_type": "code",
   "execution_count": 14,
   "metadata": {},
   "outputs": [],
   "source": [
    "def calculate_metrics(df):\n",
    "    rouge_scores, bleu_scores = [], []\n",
    "    \n",
    "    for index, row in df.iterrows():\n",
    "        generated_answer = row['respostas_geradas']\n",
    "        reference_answer = row['respostas']\n",
    "        \n",
    "        # ROUGE Score\n",
    "        rouge_score = rouge.get_scores(generated_answer, reference_answer)[0]\n",
    "        rouge_scores.append(rouge_score)\n",
    "        \n",
    "        # BLEU Score\n",
    "        bleu_score = sentence_bleu([reference_answer.split()], generated_answer.split())\n",
    "        bleu_scores.append(bleu_score)\n",
    "    \n",
    "    avg_rouge = {\n",
    "        'rouge-1': {\n",
    "            'f': sum([score['rouge-1']['f'] for score in rouge_scores]) / len(rouge_scores),\n",
    "            'p': sum([score['rouge-1']['p'] for score in rouge_scores]) / len(rouge_scores),\n",
    "            'r': sum([score['rouge-1']['r'] for score in rouge_scores]) / len(rouge_scores)\n",
    "        },\n",
    "        'rouge-2': {\n",
    "            'f': sum([score['rouge-2']['f'] for score in rouge_scores]) / len(rouge_scores),\n",
    "            'p': sum([score['rouge-2']['p'] for score in rouge_scores]) / len(rouge_scores),\n",
    "            'r': sum([score['rouge-2']['r'] for score in rouge_scores]) / len(rouge_scores)\n",
    "        },\n",
    "        'rouge-l': {\n",
    "            'f': sum([score['rouge-l']['f'] for score in rouge_scores]) / len(rouge_scores),\n",
    "            'p': sum([score['rouge-l']['p'] for score in rouge_scores]) / len(rouge_scores),\n",
    "            'r': sum([score['rouge-l']['r'] for score in rouge_scores]) / len(rouge_scores)\n",
    "        }\n",
    "    }\n",
    "    \n",
    "    avg_bleu = sum(bleu_scores) / len(bleu_scores)\n",
    "    \n",
    "    return avg_rouge, avg_bleu"
   ]
  },
  {
   "cell_type": "code",
   "execution_count": 16,
   "metadata": {},
   "outputs": [
    {
     "name": "stderr",
     "output_type": "stream",
     "text": [
      "/home/matius/anaconda3/envs/master/lib/python3.11/site-packages/nltk/translate/bleu_score.py:552: UserWarning: \n",
      "The hypothesis contains 0 counts of 3-gram overlaps.\n",
      "Therefore the BLEU score evaluates to 0, independently of\n",
      "how many N-gram overlaps of lower order it contains.\n",
      "Consider using lower n-gram order or use SmoothingFunction()\n",
      "  warnings.warn(_msg)\n",
      "/home/matius/anaconda3/envs/master/lib/python3.11/site-packages/nltk/translate/bleu_score.py:552: UserWarning: \n",
      "The hypothesis contains 0 counts of 4-gram overlaps.\n",
      "Therefore the BLEU score evaluates to 0, independently of\n",
      "how many N-gram overlaps of lower order it contains.\n",
      "Consider using lower n-gram order or use SmoothingFunction()\n",
      "  warnings.warn(_msg)\n",
      "/home/matius/anaconda3/envs/master/lib/python3.11/site-packages/nltk/translate/bleu_score.py:552: UserWarning: \n",
      "The hypothesis contains 0 counts of 2-gram overlaps.\n",
      "Therefore the BLEU score evaluates to 0, independently of\n",
      "how many N-gram overlaps of lower order it contains.\n",
      "Consider using lower n-gram order or use SmoothingFunction()\n",
      "  warnings.warn(_msg)\n"
     ]
    },
    {
     "name": "stdout",
     "output_type": "stream",
     "text": [
      "ROUGE-1 F1 Score: 0.2879727198678665\n",
      "ROUGE-1 Precision: 0.25518291480621846\n",
      "ROUGE-1 Recall: 0.3414034340105859\n",
      "ROUGE-2 F1 Score: 0.12998784040497788\n",
      "ROUGE-2 Precision: 0.11259259111783729\n",
      "ROUGE-2 Recall: 0.16085168207693679\n",
      "ROUGE-L F1 Score: 0.2552555013000934\n",
      "ROUGE-L Precision: 0.2263680828083624\n",
      "ROUGE-L Recall: 0.3025961897724481\n",
      "BLEU Score: 0.08201981779997522\n"
     ]
    }
   ],
   "source": [
    "# Calculando as métricas\n",
    "avg_rouge, avg_bleu = calculate_metrics(final_file)\n",
    "\n",
    "# Exibindo os resultados\n",
    "print(\"ROUGE-1 F1 Score:\", avg_rouge['rouge-1']['f'])\n",
    "print(\"ROUGE-1 Precision:\", avg_rouge['rouge-1']['p'])\n",
    "print(\"ROUGE-1 Recall:\", avg_rouge['rouge-1']['r'])\n",
    "print(\"ROUGE-2 F1 Score:\", avg_rouge['rouge-2']['f'])\n",
    "print(\"ROUGE-2 Precision:\", avg_rouge['rouge-2']['p'])\n",
    "print(\"ROUGE-2 Recall:\", avg_rouge['rouge-2']['r'])\n",
    "print(\"ROUGE-L F1 Score:\", avg_rouge['rouge-l']['f'])\n",
    "print(\"ROUGE-L Precision:\", avg_rouge['rouge-l']['p'])\n",
    "print(\"ROUGE-L Recall:\", avg_rouge['rouge-l']['r'])\n",
    "print(\"BLEU Score:\", avg_bleu)"
   ]
  },
  {
   "cell_type": "code",
   "execution_count": null,
   "metadata": {},
   "outputs": [],
   "source": []
  }
 ],
 "metadata": {
  "kernelspec": {
   "display_name": "master",
   "language": "python",
   "name": "python3"
  },
  "language_info": {
   "codemirror_mode": {
    "name": "ipython",
    "version": 3
   },
   "file_extension": ".py",
   "mimetype": "text/x-python",
   "name": "python",
   "nbconvert_exporter": "python",
   "pygments_lexer": "ipython3",
   "version": "3.11.9"
  }
 },
 "nbformat": 4,
 "nbformat_minor": 2
}
